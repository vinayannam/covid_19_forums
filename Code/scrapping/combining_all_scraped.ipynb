{
 "metadata": {
  "language_info": {
   "codemirror_mode": {
    "name": "ipython",
    "version": 3
   },
   "file_extension": ".py",
   "mimetype": "text/x-python",
   "name": "python",
   "nbconvert_exporter": "python",
   "pygments_lexer": "ipython3",
   "version": "3.7.9-final"
  },
  "orig_nbformat": 2,
  "kernelspec": {
   "name": "python3",
   "display_name": "Python 3.7.9 64-bit ('3.7.9')",
   "metadata": {
    "interpreter": {
     "hash": "b92a194692ea81b0afd8109b7556d912835ab8aedddc7e843cbd8cc281951658"
    }
   }
  }
 },
 "nbformat": 4,
 "nbformat_minor": 2,
 "cells": [
  {
   "cell_type": "code",
   "execution_count": 1,
   "metadata": {},
   "outputs": [],
   "source": [
    "import json\n",
    "import glob\n",
    "import os"
   ]
  },
  {
   "cell_type": "code",
   "execution_count": 2,
   "metadata": {},
   "outputs": [],
   "source": [
    "files = glob.glob(\"./g*.json\")\n",
    "discussions = []\n",
    "for file in files:\n",
    "    discussions.extend(json.load(open(file, 'r')) )"
   ]
  },
  {
   "cell_type": "code",
   "execution_count": 3,
   "metadata": {},
   "outputs": [],
   "source": [
    "def transform(content):\n",
    "    content = content.replace(\"\\n\",\"\").replace(\"\\r\",\"\")\n",
    "    content = content.encode(\"ascii\", \"ignore\")\n",
    "    content = content.decode()\n",
    "    content = ' '.join(content.split())\n",
    "    content = content.lower()\n",
    "    return content"
   ]
  },
  {
   "cell_type": "code",
   "execution_count": 4,
   "metadata": {},
   "outputs": [],
   "source": [
    "for i in range(len(discussions)):\n",
    "    discussions[i]['title'] = transform(discussions[i]['title'])\n",
    "    if 'author' in discussions[i]:\n",
    "        discussions[i]['author'] = transform(discussions[i]['author'])\n",
    "    else:\n",
    "        discussions[i]['author'] = ''\n",
    "    discussions[i]['content'] = transform(discussions[i]['content'])\n",
    "    for j in range(len(discussions[i]['replies'])):\n",
    "        discussions[i]['replies'][j]['content'] = transform(discussions[i]['replies'][j]['content'])\n",
    "        for k in range(len(discussions[i]['replies'][j]['sub_replies'])):\n",
    "            content = discussions[i]['replies'][j]['sub_replies'][k]\n",
    "            discussions[i]['replies'][j]['sub_replies'][k] = transform(content)"
   ]
  },
  {
   "cell_type": "code",
   "execution_count": 5,
   "metadata": {},
   "outputs": [],
   "source": [
    "out_file = open(\"stage1_scrapping.json\", \"w\") \n",
    "json.dump(discussions, out_file, indent = 2) \n",
    "out_file.close()"
   ]
  },
  {
   "cell_type": "code",
   "execution_count": null,
   "metadata": {},
   "outputs": [],
   "source": []
  }
 ]
}