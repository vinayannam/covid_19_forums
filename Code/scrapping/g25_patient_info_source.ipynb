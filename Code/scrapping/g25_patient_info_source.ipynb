{
 "metadata": {
  "language_info": {
   "codemirror_mode": {
    "name": "ipython",
    "version": 3
   },
   "file_extension": ".py",
   "mimetype": "text/x-python",
   "name": "python",
   "nbconvert_exporter": "python",
   "pygments_lexer": "ipython3",
   "version": "3.7.9-final"
  },
  "orig_nbformat": 2,
  "kernelspec": {
   "name": "python3",
   "display_name": "Python 3.7.9 64-bit ('3.7.9')",
   "metadata": {
    "interpreter": {
     "hash": "b92a194692ea81b0afd8109b7556d912835ab8aedddc7e843cbd8cc281951658"
    }
   }
  }
 },
 "nbformat": 4,
 "nbformat_minor": 2,
 "cells": [
  {
   "cell_type": "code",
   "execution_count": null,
   "metadata": {},
   "outputs": [],
   "source": [
    "# uncomment the below lines to install beaufiful soup for the first time.\n",
    "# ! pip install --upgrade pip\n",
    "# ! pip install beautifulsoup4\n",
    "# ! pip install ipywidgets"
   ]
  },
  {
   "cell_type": "code",
   "execution_count": null,
   "metadata": {},
   "outputs": [],
   "source": [
    "import json\n",
    "import requests\n",
    "import tqdm.notebook as tq\n",
    "from bs4 import BeautifulSoup"
   ]
  },
  {
   "cell_type": "code",
   "execution_count": null,
   "metadata": {
    "tags": []
   },
   "outputs": [],
   "source": [
    "domain = 'https://patient.info/'\n",
    "source_url = 'https://patient.info/forums/discuss/browse/coronavirus-covid-19--4541'\n",
    "page_number = '?page={}'\n",
    "headers = {\n",
    "    'Access-Control-Allow-Origin': '*',\n",
    "    'Access-Control-Allow-Methods': 'GET',\n",
    "    'Access-Control-Allow-Headers': 'Content-Type',\n",
    "    'Access-Control-Max-Age': '3600',\n",
    "    'User-Agent': 'Mozilla/5.0 (X11; Ubuntu; Linux x86_64; rv:52.0) Gecko/20100101 Firefox/52.0'\n",
    "}"
   ]
  },
  {
   "cell_type": "code",
   "execution_count": null,
   "metadata": {},
   "outputs": [],
   "source": [
    "req = requests.get(source_url, headers)\n",
    "source = BeautifulSoup(req.content, 'html.parser') \n",
    "max_pages = int(source.find_all('option')[-1].get('value'))+1"
   ]
  },
  {
   "cell_type": "code",
   "execution_count": null,
   "metadata": {},
   "outputs": [],
   "source": [
    "discussion_urls = []\n",
    "for page in range(max_pages):\n",
    "    req = requests.get(source_url+(page_number.format(page)), headers)\n",
    "    soup = BeautifulSoup(req.content, 'html.parser') \n",
    "    articles = soup.select('li.disc-smr.cardb:not(.post-pinned)')\n",
    "    discussion_urls.extend(['https://patient.info/'+article.find('a').get('href') for article in articles])"
   ]
  },
  {
   "cell_type": "code",
   "execution_count": null,
   "metadata": {
    "tags": []
   },
   "outputs": [],
   "source": [
    "discussions = []\n",
    "for discussion_url in tq.tqdm(discussion_urls):\n",
    "    req = requests.get(discussion_url, headers)\n",
    "    soup = BeautifulSoup(req.content, 'html.parser')\n",
    "    discussion = {\n",
    "        'url': discussion_url,\n",
    "        'title': soup.select_one('h1.u-h1.post__title').get_text().strip(),\n",
    "        'author': soup.select_one('div.author h5.author__info a.author__name').get('href').strip(),\n",
    "        'content': soup.select_one('div.post__content input').get('value').strip(),\n",
    "        'replies': []\n",
    "    }\n",
    "    page_count_section = soup.select_one('div.comment-page')\n",
    "    max_pages = int(page_count_section.get('data-pagecount')) if page_count_section else 1\n",
    "    for page in tq.tqdm(range(max_pages)):\n",
    "        req = requests.get(discussion_url+(page_number.format(page)), headers)\n",
    "        soup = BeautifulSoup(req.content, 'html.parser')\n",
    "        posts = soup.select('article.post.post__root')\n",
    "        for post in posts:\n",
    "            reply_content = post.select_one('div.post__content input')\n",
    "            if reply_content:\n",
    "                reply = {\n",
    "                    'content': reply_content.get('value').strip(),\n",
    "                    'sub_replies': []\n",
    "                }\n",
    "                sub_replies = post.select('ul.comments.comments--nested div.post__content input')\n",
    "                for sub_reply in sub_replies:\n",
    "                    reply['sub_replies'].append(sub_reply.get('value').strip())\n",
    "                discussion['replies'].append(reply)\n",
    "    discussions.append(discussion)"
   ]
  },
  {
   "cell_type": "code",
   "execution_count": 12,
   "metadata": {},
   "outputs": [],
   "source": [
    "def transform(content):\n",
    "    content = content.replace(\"\\n\",\"\").replace(\"\\r\",\"\")\n",
    "    content = ' '.join(content.split())\n",
    "    content = content.lower()\n",
    "    return content"
   ]
  },
  {
   "cell_type": "code",
   "execution_count": 13,
   "metadata": {},
   "outputs": [],
   "source": [
    "for i in range(len(discussions)):\n",
    "    discussions[i]['title'] = transform(discussions[i]['title'])\n",
    "    discussions[i]['author'] = transform(discussions[i]['author'] )\n",
    "    discussions[i]['content'] = transform(discussions[i]['content'])\n",
    "    for j in range(len(discussions[i]['replies'])):\n",
    "        discussions[i]['replies'][j]['content'] = transform(discussions[i]['replies'][j]['content'])\n",
    "        for k in range(len(discussions[i]['replies'][j]['sub_replies'])):\n",
    "            discussions[i]['replies'][j]['sub_replies'][k] = transform(discussions[i]['replies'][j]['sub_replies'][k])"
   ]
  },
  {
   "cell_type": "code",
   "execution_count": 14,
   "metadata": {},
   "outputs": [],
   "source": [
    "out_file = open(\"g25_patient_info.json\", \"w\") \n",
    "json.dump(discussions, out_file, indent = 2) \n",
    "out_file.close()"
   ]
  },
  {
   "cell_type": "code",
   "execution_count": null,
   "metadata": {},
   "outputs": [],
   "source": [
    "# discussion{\n",
    "#     title(String) : (h1 -> class: u-h1 post__title)\n",
    "#     author(String) : (div -> class: author, h5 -> class:author__info, a -> class: author__name -> href)\n",
    "#     content(String) : (div -> class: post__content, input -> value)\n",
    "#     max_pages (Integer) : (div -> class: comment-page comment-page-loaded, data-pagecount)\n",
    "#     replies([Reply]) : (article -> class: post post__root, value)\n",
    "# }\n",
    "\n",
    "# Reply{\n",
    "#     content(String): (article -> class: post post__root, div -> class: post__content break-word, input -> value)\n",
    "#     sub_replies: (ul -> class: comments comments--nested, div -> class: post__content, input -> value)\n",
    "# }"
   ]
  },
  {
   "cell_type": "code",
   "execution_count": null,
   "metadata": {},
   "outputs": [],
   "source": [
    "# discussion{\n",
    "#     url: (String)\n",
    "#     title(String),\n",
    "#     author(String),\n",
    "#     content(String),\n",
    "#     replies([Reply])\n",
    "# }\n",
    "\n",
    "# Reply{\n",
    "#     content(String),\n",
    "#     sub_replies(String)\n",
    "# }"
   ]
  }
 ]
}